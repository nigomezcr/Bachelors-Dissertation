{
 "cells": [
  {
   "cell_type": "markdown",
   "metadata": {},
   "source": [
    "# 2 Relativistic Gravity Tunnel\n",
    "\n",
    "\n",
    "In this chapter we are going to study the gravitational tunnel problem in more extended situations: electrostatic, special relativity (as applies to an electrically charged sphere) and general relativity. This last one serves as an introduction to the more complex neutron star case, which will be developed on the next chapter."
   ]
  },
  {
   "cell_type": "markdown",
   "metadata": {},
   "source": [
    "If we consider massive objects like neutron stars, the classical result would predict a maximum velocities that increase with mass and decrease with radius as\n",
    "\n",
    "\\begin{equation}\n",
    "    v_M = \\sqrt{G M/R}\n",
    "\\end{equation}\n",
    "\n",
    "Let's put some numbers on this to check the validity of the result in a bigger frame"
   ]
  },
  {
   "cell_type": "code",
   "execution_count": 1,
   "metadata": {},
   "outputs": [
    {
     "name": "stdout",
     "output_type": "stream",
     "text": [
      "Earth:   2.64e-05\n",
      "Jupiter: 1.46e-04\n",
      "Sun:     1.46e-04\n",
      "NS n:    0.311\n",
      "NS npe:  0.337\n",
      "42.17440776698293\n"
     ]
    }
   ],
   "source": [
    "import numpy as np\n",
    "\n",
    "G = 6.6738e-11\n",
    "c = 3e8\n",
    "\n",
    "#Masses\n",
    "M_Earth = 5.9724e24\n",
    "M_Jupiter = 2e27\n",
    "M_Sun = 2e30\n",
    "M_NSn = 0.6*M_Sun\n",
    "M_NSnpe = 0.7*M_Sun\n",
    "\n",
    "#Radii\n",
    "R_Earth = 6.371e6\n",
    "R_Jupiter = 7e7\n",
    "R_Sun = 7e8\n",
    "R_NSn = 9.2e3\n",
    "R_NSnpe = 9.14e3\n",
    "\n",
    "def vmax(M, R):\n",
    "    v = np.sqrt(G*M/R)/c\n",
    "    return v\n",
    "\n",
    "vE = \"{:.2e}\".format(vmax(M_Earth, R_Earth))\n",
    "vJ = \"{:.2e}\".format(vmax(M_Jupiter, R_Jupiter))\n",
    "vS = \"{:.2e}\".format(vmax(M_Jupiter, R_Jupiter))\n",
    "vNS = round(vmax(M_NSn, R_NSn) , 3)\n",
    "vNS2 = round(vmax(M_NSnpe, R_NSnpe) , 3)\n",
    "\n",
    "\n",
    "print(\"Earth:  \", vE)\n",
    "print(\"Jupiter:\", vJ)\n",
    "print(\"Sun:    \", vS)\n",
    "print(\"NS n:   \", vNS)\n",
    "print(\"NS npe: \", vNS2)\n",
    "\n",
    "#Tunneling time\n",
    "def T0(R,M):\n",
    "    return np.pi*np.sqrt(R**3/(G*M))/60\n",
    "\n",
    "print(T0(R_Earth, M_Earth))"
   ]
  },
  {
   "cell_type": "markdown",
   "metadata": {},
   "source": [
    "As we can see, the velocities reached in the cases of Neutron star are already relativistic, so a relativistic extension has to be done."
   ]
  },
  {
   "cell_type": "markdown",
   "metadata": {},
   "source": [
    "## 2.1 Electrostatic Train\n",
    "\n",
    "\n",
    "The case of an electrically charge sphere, which we can call \\textit{electrostatic tunnel}), is almost identical to the newtonian case. Let us begin by Coulombs law in Gauss law:\n",
    "\n",
    "\\begin{equation}\n",
    "    \\vec{F} = \\frac{Q(r) q}{r^2} \\hat{r},\n",
    "    \\label{2 - Coulomb's law}\n",
    "\\end{equation}\n",
    "where $Q(r)$ is the charge distribution of the sphere and $q$ that of a test charge. From the second law directly, for a uniformly charged sphere,\n",
    "\n",
    "\n",
    "\\begin{equation*}\n",
    "    \\frac{Q(r) q}{r^2} = \\frac{4\\pi}{3} r  \\rho_e q = m \\ddot{r}, \n",
    "\\end{equation*}\n",
    "if the charges are of opposite sign, we have a harmonic oscillator with period\n",
    "\n",
    "\\begin{equation*}\n",
    "    T_Q = \\sqrt{\\frac{3 \\pi m}{| \\rho_e q |}}.\n",
    "\\end{equation*}\n",
    "\n",
    "Let's fix some of this quantities"
   ]
  },
  {
   "cell_type": "code",
   "execution_count": 1,
   "metadata": {},
   "outputs": [],
   "source": [
    "#Neutron Star\n",
    "m = 1000 #in kg\n",
    "R = 1.2e3 #in m\n",
    "Q = 1e+38 # in C\n",
    "rho_e = 6e+23 #in C/m3"
   ]
  },
  {
   "cell_type": "markdown",
   "metadata": {},
   "source": [
    "now use them to compute traversal times and velocities at the center as a function of q"
   ]
  },
  {
   "cell_type": "code",
   "execution_count": 2,
   "metadata": {},
   "outputs": [],
   "source": [
    "import numpy as np\n",
    "\n",
    "k = 8.988e9 #In Nm2/C2\n",
    "\n",
    "def T(rho, q, m):\n",
    "    return np.sqrt(3*np.pi*m/(k*rho*q))\n",
    "\n",
    "\n",
    "def V(Q, q, m, R):\n",
    "    return np.sqrt(2*k*Q*q/(m*R))\n",
    "\n",
    "#Let's comute T and V for this Neutron star and test objects objects \n",
    "\n"
   ]
  },
  {
   "cell_type": "markdown",
   "metadata": {},
   "source": [
    "now, we can plot them"
   ]
  },
  {
   "cell_type": "code",
   "execution_count": 2,
   "metadata": {},
   "outputs": [
    {
     "ename": "NameError",
     "evalue": "name 'T' is not defined",
     "output_type": "error",
     "traceback": [
      "\u001b[0;31m---------------------------------------------------------------------------\u001b[0m",
      "\u001b[0;31mNameError\u001b[0m                                 Traceback (most recent call last)",
      "\u001b[0;32m<ipython-input-2-09d6f7b41b54>\u001b[0m in \u001b[0;36m<module>\u001b[0;34m\u001b[0m\n\u001b[1;32m      3\u001b[0m \u001b[0mq\u001b[0m \u001b[0;34m=\u001b[0m \u001b[0mnp\u001b[0m\u001b[0;34m.\u001b[0m\u001b[0marange\u001b[0m\u001b[0;34m(\u001b[0m\u001b[0;36m1\u001b[0m\u001b[0;34m,\u001b[0m\u001b[0;36m10\u001b[0m\u001b[0;34m,\u001b[0m\u001b[0;36m0.1\u001b[0m\u001b[0;34m)\u001b[0m\u001b[0;34m\u001b[0m\u001b[0;34m\u001b[0m\u001b[0m\n\u001b[1;32m      4\u001b[0m \u001b[0;34m\u001b[0m\u001b[0m\n\u001b[0;32m----> 5\u001b[0;31m \u001b[0mTime\u001b[0m \u001b[0;34m=\u001b[0m \u001b[0mT\u001b[0m\u001b[0;34m(\u001b[0m\u001b[0mrho_e\u001b[0m\u001b[0;34m,\u001b[0m \u001b[0mq\u001b[0m\u001b[0;34m,\u001b[0m \u001b[0mm\u001b[0m\u001b[0;34m)\u001b[0m\u001b[0;34m*\u001b[0m\u001b[0;36m10\u001b[0m\u001b[0;34m**\u001b[0m\u001b[0;36m15\u001b[0m \u001b[0;31m#in s\u001b[0m\u001b[0;34m\u001b[0m\u001b[0;34m\u001b[0m\u001b[0m\n\u001b[0m\u001b[1;32m      6\u001b[0m \u001b[0mVelocity\u001b[0m \u001b[0;34m=\u001b[0m \u001b[0mV\u001b[0m\u001b[0;34m(\u001b[0m\u001b[0mQ\u001b[0m\u001b[0;34m,\u001b[0m \u001b[0mq\u001b[0m\u001b[0;34m,\u001b[0m \u001b[0mm\u001b[0m\u001b[0;34m,\u001b[0m \u001b[0mR\u001b[0m\u001b[0;34m)\u001b[0m\u001b[0;34m/\u001b[0m\u001b[0;36m3e8\u001b[0m \u001b[0;31m# m/s\u001b[0m\u001b[0;34m\u001b[0m\u001b[0;34m\u001b[0m\u001b[0m\n\u001b[1;32m      7\u001b[0m \u001b[0;34m\u001b[0m\u001b[0m\n",
      "\u001b[0;31mNameError\u001b[0m: name 'T' is not defined"
     ]
    }
   ],
   "source": [
    "import matplotlib.pyplot as plt  \n",
    "\n",
    "q = np.arange(1,10,0.1)\n",
    "\n",
    "Time = T(rho_e, q, m)*10**15 #in s\n",
    "Velocity = V(Q, q, m, R)/3e8 # m/s\n",
    "\n",
    "ax1 = plt.subplot()\n",
    "plt.xlabel('$q \\ [ C ]$')\n",
    "plt.ylabel('$T \\ [fs]$', color='b')\n",
    "plt.plot(q, Time, 'b', label='$T_Q$')\n",
    "\n",
    "ax2 = ax1.twinx()\n",
    "plt.ylabel('$v \\ [c]$', color='g')\n",
    "ax2.plot(q, Velocity, 'g', label='$v$')\n",
    "\n",
    "\n",
    "plt.savefig('Plots/1-Electrostatic_times_py.pdf')"
   ]
  },
  {
   "cell_type": "markdown",
   "metadata": {},
   "source": [
    "For this parameters"
   ]
  },
  {
   "cell_type": "code",
   "execution_count": 7,
   "metadata": {},
   "outputs": [
    {
     "name": "stdout",
     "output_type": "stream",
     "text": [
      "Density =  6e+23 C/m^3\n",
      "Q =  1e+39  C\n",
      "q =  1.0  C\n",
      "m =  1000  kg\n",
      "R =  1200.0  m\n"
     ]
    }
   ],
   "source": [
    "print('Density = ', rho_e, 'C/m^3')\n",
    "print('Q = ', Q, ' C')\n",
    "print('q = ', q[0], ' C')\n",
    "print('m = ', m, ' kg')\n",
    "print('R = ', R, ' m')"
   ]
  },
  {
   "cell_type": "markdown",
   "metadata": {},
   "source": [
    "as it can be seen, the velocity when the train is passing through the center of the sphere is much bigger than the speed of light, which, as we know, is absolutely impossible. "
   ]
  },
  {
   "cell_type": "markdown",
   "metadata": {},
   "source": [
    "## 2.2 Special Relativistic GT\n",
    "\n",
    "\n",
    "\n",
    "We start again from force consideration, in this case Lorentz 4-force, written in explicit covariant form \n",
    "\n",
    "\\begin{equation}\n",
    "F^{\\mu} = m \\frac{d^2 x^{\\mu}}{d\\tau^2} = q F^{\\mu \\nu} U_{\\nu} ,\n",
    "\\end{equation}\n",
    "From this section and the rest of this work, we are going to consider $c=1$, and work in natural units. In $1D$, the components are\n",
    "\n",
    "\\begin{equation}\n",
    "    \\left \\{ \\begin{matrix}\n",
    "    m \\frac{d^2 x^0}{d\\tau^2} = q E^1 U^1 ,\\\\\n",
    "    m \\frac{d^2 x^1}{d\\tau^2} = q E^1 U^0 .\\\\\n",
    "    \\end{matrix} \\right. \n",
    "\\end{equation}\n",
    "\n",
    "We couple this equations and get to\n",
    "\n",
    "\n",
    "\\begin{equation}\n",
    "    m \\frac{d^2 x^1}{d\\tau^2 } = - \\omega^2 E x^1 + \\frac{m}{2} \\omega^4 (x^1)^3.\n",
    "\\end{equation}\n",
    "\n",
    "we can solve it numerically using\n",
    "\n",
    "\\begin{equation*}\n",
    "    \\hat{\\tau} = \\omega \\tau \\hspace{0.5cm} , \\hspace{0.5cm}  \\hat{x} = \\frac{\\omega x^1}{x} \\hspace{0.5cm} , \\hspace{0.5cm} \\hat{E} = \\frac{E}{m} = \\gamma + \\frac{V}{m}.\n",
    "\\end{equation*}\n",
    "$V$ is the potential energy, and we have also the relations\n",
    "\n",
    "\\begin{align*}\n",
    "    \\hat{E} = 1 + \\frac{1}{2}\\hat{R}^2 \\hspace{1.cm} ;& \\hspace{0.4cm} \\hat{R} = \\omega R= v_{NR max} = \\sqrt{\\frac{qQ/R}{m}}. \\\\\n",
    "    \\text{and} &\\\\\n",
    "    \\hat{R}= \\sqrt{2(\\hat{E} - 1)} \\hspace{0.6cm} & , \\hspace{0.6cm} \\hat{R}_+ = \\sqrt{4 + \\hat{R}^2} .  \n",
    "\\end{align*}\n",
    "\n",
    "With the above parameters, this quantities are:"
   ]
  },
  {
   "cell_type": "code",
   "execution_count": 22,
   "metadata": {},
   "outputs": [
    {
     "name": "stdout",
     "output_type": "stream",
     "text": [
      "omega =  7607257743127.307 s^-1\n",
      "Rhat  =  9128709291752768.0\n",
      "R+   =  9128709291752768.0\n",
      "E    =  4.166666666666666e+31\n"
     ]
    }
   ],
   "source": [
    "omega = np.sqrt(1*Q/(m*R**3)) \n",
    "print(\"omega = \", omega, 's^-1')\n",
    "\n",
    "Rhat = R*omega\n",
    "print('Rhat  = ', Rhat)\n",
    "\n",
    "Rplus = np.sqrt(4 + Rhat**2)\n",
    "print('R+    = ', Rplus)\n",
    "\n",
    "E = 1 + 0.5*Rhat**2\n",
    "print('E     = ', E)"
   ]
  },
  {
   "cell_type": "markdown",
   "metadata": {},
   "source": [
    "### Energy Considerations\n",
    "\n",
    " Duffing equation is a force equation. Let's fin then the energetic expression of this system. To that end, multiplying it by $d\\hat{x}/d\\hat{\\tau}$, and integrate \n",
    "    \n",
    "\\begin{equation*}\n",
    "        \\int \\frac{d^2 \\hat{x}}{d\\tau^2} \\frac{d \\hat{x}}{d\\tau} d\\tau = - \\hat{E} \\int  \\hat{x}\\frac{d\\hat{x}}{d\\tau} d\\tau  + \\frac{1}{2} \\int \\hat{x}^3  \\frac{d \\hat{x}}{d\\tau} d\\tau  ,\n",
    "\\end{equation*}\n",
    "\n",
    "so we get\n",
    "\n",
    "\\begin{equation}\n",
    "    \\frac{1}{2}   \\left( \\frac{d\\hat{x}}{d\\tau}\\right )^2 + V_{\\text{eff}}^{SR} (\\hat{x} ) = \\text{Const} ,\n",
    "\\end{equation}\n",
    "\n",
    "where the relativistic effective potential is\n",
    "\n",
    "\\begin{equation}\n",
    "        V_{\\text{eff}}^{SR} = \\frac{1}{2} \\hat{E}  \\hat{x}^2 - \\frac{1}{8} \\hat{x}^4 = \\frac{1}{2} \\left( 1 + \\frac{1}{2} \\hat{R}^2 \\right) \\hat{x}^2 - \\frac{1}{8} \\hat{x}^4 ,\n",
    "\\end{equation}"
   ]
  },
  {
   "cell_type": "code",
   "execution_count": 12,
   "metadata": {},
   "outputs": [
    {
     "data": {
      "image/png": "[encoded data removed]",
      "text/plain": [
       "<Figure size 432x288 with 1 Axes>"
      ]
     },
     "metadata": {
      "needs_background": "light"
     },
     "output_type": "display_data"
    }
   ],
   "source": [
    "import scipy.special as spy\n",
    "from scipy.integrate import odeint as ode\n",
    "\n",
    "R1, R2, R3, R4 = 0.5, 1.0, 1.5, 2.0 \n",
    "\n",
    "#Effective potential\n",
    "def V(x, R):\n",
    "    E = 1 + 0.5*R*R\n",
    "    return 0.5*E*x**2 - 0.125*x**4 \n",
    "\n",
    "def Plot_potentials():\n",
    "    x1 = np.arange(-0.5,0.51,0.01)\n",
    "    x2 = np.arange(-1  ,1.01,0.01)\n",
    "    x3 = np.arange(-1.5,1.51,0.01)\n",
    "    x4 = np.arange(-2  ,2.01,0.01)\n",
    "    y1 = V(x1, R1) - V(R1, R1)\n",
    "    y2 = V(x2, R2) - V(R2, R2)\n",
    "    y3 = V(x3, R3) - V(R3, R3)\n",
    "    y4 = V(x4, R4) - V(R4, R4)\n",
    "    \n",
    "    \n",
    "    plt.xlabel('x')\n",
    "    plt.ylabel('$V_{eff}(x)$')\n",
    "    plt.plot(x1, y1, 'r', label='R = 0.5')\n",
    "    plt.plot(x2, y2, 'y', label='R = 1')\n",
    "    plt.plot(x3, y3, 'g', label='R = 1.5')\n",
    "    plt.plot(x4, y4, 'b', label='R = 2')\n",
    "    plt.legend()\n",
    "    #plt.savefig(\"Plots/2-Effecive_Potential_SR_py.pdf\")\n",
    "    \n",
    "Plot_potentials()"
   ]
  },
  {
   "cell_type": "markdown",
   "metadata": {},
   "source": []
  },
  {
   "cell_type": "markdown",
   "metadata": {},
   "source": [
    "### Proper Velocity\n",
    "\n",
    "To find the proper velocity, notice that, at the turning points, \n",
    "    \n",
    "\\begin{equation*}\n",
    "    0 + \\frac{1}{2} \\hat{R}^2 + \\frac{1}{8} \\hat{R}^4 = \\frac{1}{8} \\hat{R}^2 \\hat{R}_+^2 = \\text{Const} ,\n",
    "\\end{equation*}\n",
    "\n",
    "Here we have it"
   ]
  },
  {
   "cell_type": "code",
   "execution_count": 93,
   "metadata": {},
   "outputs": [
    {
     "data": {
      "image/png": "[encoded data removed]",
      "text/plain": [
       "<Figure size 432x288 with 1 Axes>"
      ]
     },
     "metadata": {
      "needs_background": "light"
     },
     "output_type": "display_data"
    }
   ],
   "source": [
    "def v(x, R):\n",
    "    Rp = np.sqrt(4 + R*R)\n",
    "    return 0.5*np.sqrt(R**2*Rp**2 - (R**2 + Rp**2)*x**2 + x**4 )\n",
    "\n",
    "def Plot_velocity():\n",
    "    x1 = np.arange(0,R1,0.01)\n",
    "    v1 = v(x1, R1)\n",
    "    \n",
    "    plt.xlabel('$\\hat{x}$')\n",
    "    plt.ylabel('$\\hat{v} (x)$')    \n",
    "    plt.plot(x1, v1, 'b')\n",
    "    #plt.savefig(\"Plots/3-Proper_velocity_py.pdf\")\n",
    "\n",
    "Plot_velocity()"
   ]
  },
  {
   "cell_type": "markdown",
   "metadata": {},
   "source": [
    "### Proper Trajectory\n",
    "\n",
    "The functional form is\n",
    "\n",
    "\\begin{equation*}\n",
    "    \\hat{x} = \\hat{R} \\text{sn} \\left (\\frac{\\hat{R}_+}{2} \\hat{\\tau} , \\frac{\\hat{R}}{\\hat{R}_+} \\right),\n",
    "\\end{equation*}\n",
    "\n",
    "where $ sn (x,y)$ is Jacobi elliptic function. This solutions, for the first oscillation periods,"
   ]
  },
  {
   "cell_type": "code",
   "execution_count": 94,
   "metadata": {},
   "outputs": [
    {
     "name": "stderr",
     "output_type": "stream",
     "text": [
      "<ipython-input-94-628fa3263d1d>:35: MatplotlibDeprecationWarning: Adding an axes using the same arguments as a previous axes currently reuses the earlier instance.  In a future version, a new instance will always be created and returned.  Meanwhile, this warning can be suppressed, and the future behavior ensured, by passing a unique label to each axes instance.\n",
      "  plt.axes()\n"
     ]
    },
    {
     "data": {
      "image/png": "[encoded data removed]",
      "text/plain": [
       "<Figure size 432x288 with 1 Axes>"
      ]
     },
     "metadata": {
      "needs_background": "light"
     },
     "output_type": "display_data"
    }
   ],
   "source": [
    "\n",
    "def tau(x, R):\n",
    "    Rp = np.sqrt(4 + R*R)\n",
    "    F = spy.ellipkinc(x/R, R/Rp)\n",
    "    return 2/Rp*F\n",
    "\n",
    "def Plot_tau():\n",
    "    x1 = np.arange(0,R1,0.01)\n",
    "    tau1 = tau(x1, R1)\n",
    "    \n",
    "    plt.xlabel('$\\hat{x}$')\n",
    "    plt.ylabel('$\\hat{\\tau} (x)$')    \n",
    "    plt.plot(x1, tau1, 'r')\n",
    "\n",
    "    \n",
    "def x(t, R):\n",
    "    Rp = np.sqrt(4 + R*R)\n",
    "    sn = spy.ellipj(np.pi*Rp*t , R/Rp )\n",
    "    return sn[0]\n",
    "\n",
    "def Plot_Prop_Trajectory():\n",
    "    tau1 = np.arange(0,1.01,0.01)\n",
    "    tau2 = np.arange(0,1.01,0.01)\n",
    "    tau3 = np.arange(0,.74,0.01)\n",
    "    tau4 = np.arange(0,.306,0.01)\n",
    "    tau5 = np.arange(0,.11,0.01)\n",
    "    Trajec1 = x(tau1, 0.0)\n",
    "    Trajec2 = x(tau2, 1)\n",
    "    Trajec3 = x(tau3, 4)\n",
    "    Trajec4 = x(tau4, 16)\n",
    "    Trajec5 = x(tau5, 64)\n",
    "    \n",
    "    \n",
    "    plt.xlabel('tau')\n",
    "    plt.ylabel('x (tau)')    \n",
    "    plt.axes()\n",
    "    plt.plot(tau1, Trajec1, 'b', label='R -> 0')\n",
    "    plt.plot(tau2, Trajec2, 'y', label='R = 1')\n",
    "    plt.plot(tau3, Trajec3, 'g', label='R = 4')\n",
    "    plt.plot(tau4, Trajec4, 'r', label='R = 16')\n",
    "    plt.plot(tau5, Trajec5, 'c', label='R = 64')\n",
    "    plt.legend()    \n",
    "    #plt.savefig(\"Plots/1-SRel_Traj__Prop.pdf\")\n",
    "\n",
    "Plot_Prop_Trajectory()"
   ]
  },
  {
   "cell_type": "markdown",
   "metadata": {},
   "source": [
    "## Coordinate Trajectory\n",
    "\n",
    "For the coordinate time $t$, we have\n",
    "\n",
    "\\begin{equation*}\n",
    "    \\frac{d \\hat{t}}{d\\hat{x}} = \\frac{\\gamma }{\\hat{v}},\n",
    "\\end{equation*}\n",
    "\n",
    "and, as $\\gamma = \\sqrt{1 + \\hat{\\omega}^2}$, we have\n",
    "\n",
    "\\begin{equation*}\n",
    "    \\frac{d \\hat{x}}{d\\hat{t}} = \\sqrt{ 1 + \\frac{1}{\\hat{v}^2}} = \\sqrt{ 1 - \\frac{1}{(\\hat{E} - \\frac{1}{2} \\hat{x}^2)^2}} ,\n",
    "\\end{equation*}"
   ]
  },
  {
   "cell_type": "code",
   "execution_count": 14,
   "metadata": {},
   "outputs": [],
   "source": [
    "def Coordinate_times(x, R, tau):\n",
    "    Rp = np.sqrt(4 + R*R)\n",
    "    E = spy.ellipeinc(x/R, R/Rp)\n",
    "    F = spy.ellipkinc(x/R, R/Rp)\n",
    "    return Rp*E - 2/Rp*F - tau\n",
    "\n",
    "\n",
    "def Coordinate_Trajectory(x, t, R):\n",
    "    E = 1 + 0.5*R*R\n",
    "    dxdt = np.sqrt(1 - 1/(E - 0.5*x**2)**2)\n",
    "    return dxdt\n",
    "\n",
    "\n",
    "def Solve_trajectory(trajectory, t_array, x0, R, N):\n",
    "    solution = ode(trajectory, x0, t_array, args=(R,))\n",
    "\n",
    "    r = np.zeros(N)\n",
    "    for i in np.arange(N):\n",
    "        r[i] = solution[i]\n",
    "\n",
    "    return r\n",
    "\n",
    "\n",
    "def Plot_Coord_trajectory(t,x, color, name):\n",
    "    \n",
    "    plt.xlabel('$\\hat{t}$')\n",
    "    plt.ylabel('$\\hat{x} (t)$')\n",
    "    \n",
    "    plt.plot(t, x, color, label=name)\n",
    "    plt.legend()\n",
    "    plt.axhline(color='black', lw=0.1)\n",
    "    plt.savefig(\"Plots/6-Coordinate_Trajectory_py.pdf\")    "
   ]
  },
  {
   "cell_type": "markdown",
   "metadata": {},
   "source": [
    "### Main parameters"
   ]
  },
  {
   "cell_type": "code",
   "execution_count": 10,
   "metadata": {},
   "outputs": [],
   "source": [
    "# Initial conditions and step\n",
    "ti, dt = 0, 0.01\n",
    "xi =  0.0\n",
    "\n",
    "#Arrays for the 4 cases\n",
    "R = np.array([0.25,1,2,4])\n",
    "tf = np.array([1.57,1.85,2.5,4.25])\n",
    "N = tf/dt\n",
    "\n",
    "t0 = np.arange(ti, tf[0]+dt, dt)\n",
    "t1 = np.arange(ti, tf[1]+dt, dt)\n",
    "t2 = np.arange(ti, tf[2]+dt, dt)\n",
    "t3 = np.arange(ti, tf[3]+dt, dt)"
   ]
  },
  {
   "cell_type": "markdown",
   "metadata": {},
   "source": [
    "**Plotting trajectories**"
   ]
  },
  {
   "cell_type": "code",
   "execution_count": 15,
   "metadata": {},
   "outputs": [
    {
     "name": "stderr",
     "output_type": "stream",
     "text": [
      "<ipython-input-14-479b368c5b52>:10: RuntimeWarning: invalid value encountered in sqrt\n",
      "  dxdt = np.sqrt(1 - 1/(E - 0.5*x**2)**2)\n"
     ]
    },
    {
     "data": {
      "image/png": "[encoded data removed]",
      "text/plain": [
       "<Figure size 432x288 with 1 Axes>"
      ]
     },
     "metadata": {
      "needs_background": "light"
     },
     "output_type": "display_data"
    }
   ],
   "source": [
    "#########################   R = 0.25  #################################\n",
    "Radius = R[0] \n",
    "Trajectory = Coordinate_Trajectory\n",
    "\n",
    "t = t0\n",
    "n = int(N[0])\n",
    "tf = t[n]\n",
    "\n",
    "\n",
    "x = Solve_trajectory(Trajectory, t, xi, Radius, n+1)\n",
    "\n",
    "#for i in range(n):\n",
    "    #print(t[i], ' ', x[i])\n",
    "\n",
    "#Intervals\n",
    "tau1 = t/(2*np.pi)\n",
    "tau2 = (-t+2*tf)/(2*np.pi)\n",
    "tau3 = (t+2*tf)/(2*np.pi)\n",
    "tau4 = (-t+4*tf)/(2*np.pi)\n",
    "\n",
    "#Plots\n",
    "Plot_Coord_trajectory(tau1, x,'r','R=0.25')\n",
    "Plot_Coord_trajectory(tau2, x,'r','')\n",
    "Plot_Coord_trajectory(tau3, -x,'r','')\n",
    "Plot_Coord_trajectory(tau4, -x,'r','')\n",
    "\n",
    "#########################   R = 1  #################################\n",
    "Radius = R[1] \n",
    "Trajectory = Coordinate_Trajectory\n",
    "\n",
    "t = t1\n",
    "n = int(N[1])\n",
    "tf = t[n]\n",
    "\n",
    "\n",
    "x = Solve_trajectory(Trajectory, t, xi, Radius, n+1)\n",
    "\n",
    "\n",
    "#Intervals\n",
    "tau1 = t/(2*np.pi)\n",
    "tau2 = (-t+2*tf)/(2*np.pi)\n",
    "tau3 = (t+2*tf)/(2*np.pi)\n",
    "tau4 = (-t+4*tf)/(2*np.pi)\n",
    "\n",
    "#Plots\n",
    "Plot_Coord_trajectory(tau1,  x,'y','R=1')\n",
    "Plot_Coord_trajectory(tau2,  x,'y','')\n",
    "Plot_Coord_trajectory(tau3, -x,'y','')\n",
    "Plot_Coord_trajectory(tau4, -x,'y','')\n",
    "\n",
    "#########################   R = 2  #################################\n",
    "\n",
    "Radius = R[2] \n",
    "Trajectory = Coordinate_Trajectory\n",
    "\n",
    "t = t2\n",
    "n = int(N[2])\n",
    "tf = t[n]\n",
    "\n",
    "\n",
    "x = Solve_trajectory(Trajectory, t, xi, Radius, n+1)\n",
    "\n",
    "\n",
    "#Intervals\n",
    "tau1 = t/(2*np.pi)\n",
    "tau2 = (-t+2*tf)/(2*np.pi)\n",
    "tau3 = (t+2*tf)/(2*np.pi)\n",
    "tau4 = (-t+4*tf)/(2*np.pi)\n",
    "\n",
    "#Plots\n",
    "Plot_Coord_trajectory(tau1,  x,'g','R=2')\n",
    "Plot_Coord_trajectory(tau2,  x,'g','')\n",
    "Plot_Coord_trajectory(tau3, -x,'g','')\n",
    "Plot_Coord_trajectory(tau4, -x,'g','')\n",
    "\n",
    "#########################   R = 4  #################################\n",
    "Radius = R[3] \n",
    "Trajectory = Coordinate_Trajectory\n",
    "\n",
    "t = t3\n",
    "n = int(N[3])\n",
    "tf = t[n]\n",
    "\n",
    "\n",
    "x = Solve_trajectory(Trajectory, t, xi, Radius, n+1)\n",
    "\n",
    "\n",
    "#Intervals\n",
    "tau1 = t/(2*np.pi)\n",
    "tau2 = (-t+2*tf)/(2*np.pi)\n",
    "tau3 = (t+2*tf)/(2*np.pi)\n",
    "tau4 = (-t+4*tf)/(2*np.pi)\n",
    "\n",
    "#Plots\n",
    "Plot_Coord_trajectory(tau1,  x,'b','R=4')\n",
    "Plot_Coord_trajectory(tau2,  x,'b','')\n",
    "Plot_Coord_trajectory(tau3, -x,'b','')\n",
    "Plot_Coord_trajectory(tau4, -x,'b','')"
   ]
  },
  {
   "cell_type": "markdown",
   "metadata": {},
   "source": [
    "## 2.3 General Relativistic GT\n",
    "\n",
    "\n",
    "### 2.3.1 Weak Field limit\n",
    "\n",
    "In the weak limit, proper time is given by the following formula\n",
    "\n",
    "\\begin{equation}\n",
    "     \\tau_0 = T_0  \\left(1 - \\frac{1}{4} \\frac{R_s}{R} \\right )\n",
    "\\end{equation}\n",
    "\n",
    "where $T_0$ is the classical traversal time, and $R_s = GM/c^2$ is the Schwarschild radius. Proper time is therefore"
   ]
  },
  {
   "cell_type": "code",
   "execution_count": 24,
   "metadata": {},
   "outputs": [
    {
     "name": "stdout",
     "output_type": "stream",
     "text": [
      "tau0:  42  min  10.464465578610458 s\n"
     ]
    }
   ],
   "source": [
    "c = 2.99792458e8\n",
    "tau0 = T0(R_Earth, M_Earth)*(1 - 0.25*G*M_Earth/(R_Earth*c**2))\n",
    "tau_min = round(tau0)\n",
    "tau_s = (tau0-42)*60\n",
    "print(\"tau0: \", tau_min, \" min \", tau_s, \"s\")"
   ]
  },
  {
   "cell_type": "markdown",
   "metadata": {},
   "source": [
    "While the coordinate time is given by\n",
    "\n",
    "\\begin{equation}\n",
    "    t' = \\left (1 - \\frac{\\Delta \\Phi}{c^2} \\right) \\tau\n",
    "\\end{equation}\n",
    "\n",
    "numerically:"
   ]
  },
  {
   "cell_type": "code",
   "execution_count": 27,
   "metadata": {},
   "outputs": [
    {
     "name": "stdout",
     "output_type": "stream",
     "text": [
      "t':  42 min  10.464463817148442  s\n"
     ]
    }
   ],
   "source": [
    "tprime = (1 - G*M_Earth/(R_Earth*c**2))*tau0\n",
    "t_min = round(tprime)\n",
    "t_s = (tprime-42)*60\n",
    "\n",
    "print(\"t': \", t_min, \"min \", t_s, \" s\")"
   ]
  },
  {
   "cell_type": "markdown",
   "metadata": {},
   "source": [
    "with a difference of"
   ]
  },
  {
   "cell_type": "code",
   "execution_count": 30,
   "metadata": {},
   "outputs": [
    {
     "name": "stdout",
     "output_type": "stream",
     "text": [
      "29.35770027079343\n"
     ]
    }
   ],
   "source": [
    "print((tau0 - tprime)*10**9)"
   ]
  },
  {
   "cell_type": "markdown",
   "metadata": {},
   "source": [
    "### 2.3.2 Schwarzschild metric\n",
    "\n",
    "consider Schwarzschild's interior metric\n",
    "\n",
    "\\begin{equation}\n",
    "    ds^2 = - \\left( \\frac{3}{2} \\sqrt{ 1 - 2 \\hat{R}^2 } - \\frac{1}{2} \\sqrt{1 - 2 r^2} \\right)^2 c^2 dt^2 + \\frac{dr^2}{1 - 2 r}\n",
    "\\end{equation}\n",
    "\n",
    "where we have dropped the angular dependence because of the clear symmetry of the problem, and in this case the non dimensional radius is\n",
    "\n",
    "\n",
    "\\begin{equation*}\n",
    "    \\hat{R} = \\frac{\\omega}{c} R = \\sqrt{\\frac{GM}{c^2 R}}.\n",
    "\\end{equation*}\n",
    "\n",
    "\n",
    "### Null trajectory\n",
    "\n",
    "Let's consider first the simplest of all cases for this situation, i.e., that of a massless particle. For this, $ds^2 = 0$, so can find the trajectory as\n",
    "\n",
    "\\begin{equation*}\n",
    "    \\frac{dr}{dt} = \\frac{3}{2} \\sqrt{(1-2r^2)(1-2R^2)} + r^2 - \\frac{1}{2} \\\\\n",
    "    \\int \\frac{dr}{\\frac{3}{2} \\sqrt{(1-2r^2)(1-2R^2)} + r^2 - \\frac{1}{2}} = \\int dt \\\\\n",
    "    \\frac{1}{\\sqrt{4 - 9R^2}}\\arctan{\\left [ \\frac{r \\sqrt{4-9R^2}\\left(1 + 3\\sqrt{(1-2r^2)(1-2R^2)} \\right)}{4 - 9R^2 - 9r^2 (1- 2R^2)} \\right] }= t,\n",
    "\\end{equation*}\n",
    "\n",
    "Which we can solve with Python"
   ]
  },
  {
   "cell_type": "code",
   "execution_count": 164,
   "metadata": {},
   "outputs": [
    {
     "data": {
      "image/png": "[encoded data removed]",
      "text/plain": [
       "<Figure size 432x288 with 1 Axes>"
      ]
     },
     "metadata": {
      "needs_background": "light"
     },
     "output_type": "display_data"
    }
   ],
   "source": [
    "def Null_Trajectory(x, t, R):\n",
    "    dxdt = 1.5*np.sqrt((1 - 2*x**2)*(1 - 2*R**2)) + x**2 - 0.5\n",
    "    return dxdt\n",
    "\n",
    "def Solve_trajectory(trajectory, t_array, x0, R, N):\n",
    "    solution = ode(trajectory, x0, t_array, args=(R,))\n",
    "\n",
    "    r = np.zeros(N)\n",
    "    for i in np.arange(N):\n",
    "        r[i] = solution[i]\n",
    "\n",
    "    return r\n",
    "\n",
    "def Plot_Null_trajectory(t, x):\n",
    "    plt.title('Null geodesic')\n",
    "    plt.xlabel('$\\hat{t} \\ [\\omega t] $')\n",
    "    plt.ylabel('$\\hat{r}(\\hat{t}) \\ [\\omega r] $')\n",
    "    plt.plot(t, x, 'g')\n",
    "    plt.grid()\n",
    "    plt.savefig(\"Plots/7-Null_Trajectory_py.pdf\")\n",
    "\n",
    "#Integration interval, step and number of steps\n",
    "t0, tf, dt = 0, 2, 0.01\n",
    "t = np.arange(t0, tf+dt, dt) \n",
    "N = int((tf-t0)/dt)\n",
    "\n",
    "#Initial conditions\n",
    "R = [0.2,0.4,0.6,2/3]\n",
    "x0 =  -1/np.sqrt(2)\n",
    "    \n",
    "x = np.zeros([N,3])\n",
    "Trajectory = Null_Trajectory\n",
    "\n",
    "x = Solve_trajectory(Trajectory, t, x0, R[0], N+1)\n",
    "\n",
    "Plot_Null_trajectory(t,x)\n"
   ]
  },
  {
   "cell_type": "markdown",
   "metadata": {},
   "source": [
    "## Massive Trajectories\n",
    "\n",
    "### Effective Potential"
   ]
  },
  {
   "cell_type": "code",
   "execution_count": 7,
   "metadata": {},
   "outputs": [
    {
     "data": {
      "image/png": "[encoded data removed]",
      "text/plain": [
       "<Figure size 432x288 with 1 Axes>"
      ]
     },
     "metadata": {
      "needs_background": "light"
     },
     "output_type": "display_data"
    }
   ],
   "source": [
    "\n",
    "def V(r,R):\n",
    "    E = np.sqrt(1-2*R**2)\n",
    "    x = np.sqrt(1-2*r**2)/E\n",
    "    return -0.5*pow(E*x,2)*( (5-x)*(x-1)/(x-3)**2)\n",
    "\n",
    "    \n",
    "R1, R2, R3, R4 = 0.5, 0.4, 0.3, 0.2\n",
    "x1 = np.arange(-0.5,0.51,0.01)\n",
    "x2 = np.arange(-0.4,0.41,0.01)\n",
    "x3 = np.arange(-0.3,0.31,0.01)\n",
    "x4 = np.arange(-0.2,0.21,0.01)\n",
    "y1 = V(x1, R1) - V(R1, R1)\n",
    "y2 = V(x2, R2) - V(R2, R2)\n",
    "y3 = V(x3, R3) - V(R3, R3)\n",
    "y4 = V(x4, R4) - V(R4, R4)\n",
    "\n",
    "plt.xlabel('$\\hat{r}^2$')\n",
    "plt.ylabel('$V_{eff}^{GR}(\\hat{r})$')\n",
    "plt.plot(x1, y1, 'b', label='$\\hat{R} = 0.25$')\n",
    "plt.plot(x2, y2, 'g', label='$\\hat{R} = 0.16$')\n",
    "plt.plot(x3, y3, 'y', label='$\\hat{R} = 0.09$')\n",
    "plt.plot(x4, y4, 'r', label='$\\hat{R} = 0.04$')\n",
    "plt.grid()\n",
    "plt.legend()\n",
    "plt.savefig(\"Plots/8-Effecive_Potential_GR_py.pdf\")"
   ]
  },
  {
   "cell_type": "markdown",
   "metadata": {},
   "source": [
    "### Trajectory\n",
    "\n",
    "In this case the equation to solve is\n",
    "\n",
    "\n",
    "\\begin{equation*}\n",
    "    \\frac{dr}{d\\tau} = \\hat{E} x \\frac{\\sqrt{(5-x)(x-1)}}{x-3},\n",
    "\\end{equation*}\n",
    "\n",
    "with \n",
    "\n",
    "\\begin{equation*}\n",
    "    x = \\frac{\\sqrt{1-2r^2}}{E^2}  = \\frac{\\sqrt{1 - 2 r^2}}{1 - 2 R^2}.\n",
    "\\end{equation*}\n",
    "\n",
    "here we implement it"
   ]
  },
  {
   "cell_type": "markdown",
   "metadata": {},
   "source": [
    "### Main functions"
   ]
  },
  {
   "cell_type": "code",
   "execution_count": 28,
   "metadata": {},
   "outputs": [],
   "source": [
    "def Massive_Trajectory(r , t, R):\n",
    "    E = np.sqrt(1-2*R**2)\n",
    "    x = np.sqrt(1-2*r**2)/E\n",
    "    drdt = E*x*np.sqrt((5-x)*(x-1))/(3-x)\n",
    "    return drdt\n",
    "\n",
    "def Solve_trajectory(trajectory, t_array, x0, R, N):\n",
    "    solution = ode(trajectory, x0, t_array, args=(R,))\n",
    "\n",
    "    r = np.zeros(N)\n",
    "    for i in np.arange(N):\n",
    "        r[i] = solution[i]\n",
    "\n",
    "    return r\n",
    "    \n",
    "def Plot_Massive_trajectory(t, x, color, name):\n",
    "    plt.xlabel('$ \\\\tau $')\n",
    "    plt.ylabel('$\\hat{r}^2 $')\n",
    "    plt.plot(t, x, color, label=name)\n",
    "    plt.axhline(color='black', lw=0.1)\n",
    "    plt.grid()\n",
    "    plt.legend()\n",
    "    plt.savefig(\"Plots/9-Massive_Trajectory_py.pdf\")"
   ]
  },
  {
   "cell_type": "markdown",
   "metadata": {},
   "source": [
    "### Main parameters"
   ]
  },
  {
   "cell_type": "code",
   "execution_count": 29,
   "metadata": {},
   "outputs": [],
   "source": [
    "# Initial conditions and step\n",
    "ti, dt = 0, 0.005\n",
    "xi =  0.0\n",
    "\n",
    "#Arrays for the 4 cases\n",
    "R = np.array([0.2,0.4,0.6,2/3])\n",
    "tf = np.array([1.5,1.35,1.0,0.5])\n",
    "N = tf/dt#int((tf-ti)/dt)\n",
    "\n",
    "t0 = np.arange(ti, tf[0]+dt, dt)\n",
    "t1 = np.arange(ti, tf[1]+dt, dt)\n",
    "t2 = np.arange(ti, tf[2]+dt, dt)\n",
    "t3 = np.arange(ti, tf[3]+dt, dt)"
   ]
  },
  {
   "cell_type": "markdown",
   "metadata": {},
   "source": [
    "**Plotting Trajectories**"
   ]
  },
  {
   "cell_type": "code",
   "execution_count": 30,
   "metadata": {},
   "outputs": [
    {
     "data": {
      "image/png": "[encoded data removed]",
      "text/plain": [
       "<Figure size 432x288 with 1 Axes>"
      ]
     },
     "metadata": {
      "needs_background": "light"
     },
     "output_type": "display_data"
    }
   ],
   "source": [
    "#########################   R = 0.2  #################################\n",
    "Radius = R[0] \n",
    "Trajectory = Massive_Trajectory\n",
    "\n",
    "t = t0\n",
    "n = int(N[0])\n",
    "tf = t[n]\n",
    "\n",
    "x = Solve_trajectory(Trajectory, t, xi, Radius, n+1)\n",
    "\n",
    "#Intervals\n",
    "tau1 = t/(2*np.pi)\n",
    "tau2 = (-t+2*tf)/(2*np.pi)\n",
    "tau3 = (t+2*tf)/(2*np.pi)\n",
    "tau4 = (-t+4*tf)/(2*np.pi)\n",
    "\n",
    "# Plots\n",
    "Plot_Massive_trajectory(tau1, x,'r','R=0.04')\n",
    "Plot_Massive_trajectory(tau2, x,'r','')\n",
    "Plot_Massive_trajectory(tau3, -x,'r','')\n",
    "Plot_Massive_trajectory(tau4, -x,'r','')\n",
    "\n",
    "#########################   R = 0.4  #################################\n",
    "Radius = R[1] \n",
    "t = t1\n",
    "n = int(N[1])\n",
    "tf = t[n]\n",
    "\n",
    "x = Solve_trajectory(Trajectory, t, xi, Radius, n+1)\n",
    "\n",
    "#Intervals\n",
    "tau1 = t/(2*np.pi)\n",
    "tau2 = (-t+2*tf)/(2*np.pi)\n",
    "tau3 = (t+2*tf)/(2*np.pi)\n",
    "tau4 = (-t+4*tf)/(2*np.pi)\n",
    "\n",
    "# Plots\n",
    "Plot_Massive_trajectory(tau1, x,'y','R=0.16')\n",
    "Plot_Massive_trajectory(tau2, x,'y','')\n",
    "Plot_Massive_trajectory(tau3, -x,'y','')\n",
    "Plot_Massive_trajectory(tau4, -x,'y','')\n",
    "\n",
    "#########################   R = 0.6  #################################\n",
    "Radius = R[2] \n",
    "\n",
    "\n",
    "t = t2\n",
    "n = int(N[2])\n",
    "tf = t[n]\n",
    "\n",
    "x = Solve_trajectory(Trajectory, t, xi, Radius, n+1)\n",
    "\n",
    "#Intervals\n",
    "tau1 = t/(2*np.pi)\n",
    "tau2 = (-t+2*tf)/(2*np.pi)\n",
    "tau3 = (t+2*tf)/(2*np.pi)\n",
    "tau4 = (-t+4*tf)/(2*np.pi)\n",
    "\n",
    "# Plots\n",
    "Plot_Massive_trajectory(tau1, x,'g','R=0.36')\n",
    "Plot_Massive_trajectory(tau2, x,'g','')\n",
    "Plot_Massive_trajectory(tau3, -x,'g','')\n",
    "Plot_Massive_trajectory(tau4, -x,'g','')\n",
    "\n",
    "\n",
    "\n",
    "#########################   R = 2/3  #################################\n",
    "Radius = R[3] \n",
    "\n",
    "t = t3\n",
    "n = int(N[3])\n",
    "tf = t[n]\n",
    "\n",
    "x = Solve_trajectory(Trajectory, t, xi, Radius, n+1)\n",
    "\n",
    "#Intervals\n",
    "tau1 = t/(2*np.pi)\n",
    "tau2 = (-t+2*tf)/(2*np.pi)\n",
    "tau3 = (t+2*tf)/(2*np.pi)\n",
    "tau4 = (-t+4*tf)/(2*np.pi)\n",
    "\n",
    "# Plots\n",
    "Plot_Massive_trajectory(tau1,  x,'b','R=4/9')\n",
    "Plot_Massive_trajectory(tau2,  x,'b','')\n",
    "Plot_Massive_trajectory(tau3, -x,'b','')\n",
    "Plot_Massive_trajectory(tau4, -x,'b','')"
   ]
  },
  {
   "cell_type": "markdown",
   "metadata": {},
   "source": [
    "### Coordinate Trajectory\n",
    "\n",
    "\n",
    "For this case, the respective equation is\n",
    "\n",
    "\\begin{equation}\n",
    "    \\frac{d\\hat{t}}{d\\hat{r}} = \\frac{4}{\\hat{E}^2 x(3-x)\\sqrt{(5-x)(x-1)}},\n",
    "\\end{equation}\n",
    "\n",
    "and its solution is shown next\n",
    "\n"
   ]
  },
  {
   "cell_type": "code",
   "execution_count": 25,
   "metadata": {},
   "outputs": [],
   "source": [
    "def Massive_Coord_Trajectory(r , t, R):\n",
    "    E = np.sqrt(1-2*R**2)\n",
    "    x = np.sqrt(1-2*r**2)/E\n",
    "    drdt = (E**2*x*(3-x)*np.sqrt((5-x)*(x-1)))/4\n",
    "    return drdt\n",
    "\n",
    "def Solve_trajectory(trajectory, t_array, x0, R, N):\n",
    "    solution = ode(trajectory, x0, t_array, args=(R,))\n",
    "\n",
    "    r = np.zeros(N)\n",
    "    for i in np.arange(N):\n",
    "        r[i] = solution[i]\n",
    "\n",
    "    return r\n",
    "    \n",
    "def Plot_Massive_Coord_trajectory(t, x, color, name):\n",
    "    plt.xlabel('$  t  $')\n",
    "    plt.ylabel('$\\hat{r}  $')\n",
    "    plt.plot(t, x, color, label=name)\n",
    "    plt.axhline(color='black', lw=0.1)\n",
    "    plt.legend()\n",
    "    plt.savefig(\"Plots/11-Massive_Coord_Trajectory_py.pdf\")"
   ]
  },
  {
   "cell_type": "code",
   "execution_count": 26,
   "metadata": {},
   "outputs": [],
   "source": [
    "# Initial conditions and step\n",
    "ti, dt = 0, 0.001\n",
    "xi =  0.0\n",
    "\n",
    "#Arrays for the 4 cases\n",
    "R = np.array([0.2,0.4,0.6,0.662])\n",
    "tf = np.array([1.37,1.82,3.25, 12.5])\n",
    "N = tf/dt#int((tf-ti)/dt)\n",
    "\n",
    "t0 = np.arange(ti, tf[0]+dt, dt)\n",
    "t1 = np.arange(ti, tf[1]+dt, dt)\n",
    "t2 = np.arange(ti, tf[2]+dt, dt)\n",
    "t3 = np.arange(ti, tf[3]+dt, dt)"
   ]
  },
  {
   "cell_type": "code",
   "execution_count": 27,
   "metadata": {},
   "outputs": [
    {
     "name": "stderr",
     "output_type": "stream",
     "text": [
      "<ipython-input-25-48dd1b3161e7>:4: RuntimeWarning: invalid value encountered in sqrt\n",
      "  drdt = (E**2*x*(3-x)*np.sqrt((5-x)*(x-1)))/4\n",
      "<ipython-input-25-48dd1b3161e7>:4: RuntimeWarning: invalid value encountered in sqrt\n",
      "  drdt = (E**2*x*(3-x)*np.sqrt((5-x)*(x-1)))/4\n"
     ]
    },
    {
     "data": {
      "image/png": "[encoded data removed]",
      "text/plain": [
       "<Figure size 432x288 with 1 Axes>"
      ]
     },
     "metadata": {
      "needs_background": "light"
     },
     "output_type": "display_data"
    }
   ],
   "source": [
    "#########################   R = 0.2  #################################\n",
    "Radius = R[0] \n",
    "Trajectory = Massive_Coord_Trajectory\n",
    "\n",
    "t = t0\n",
    "n = int(N[0])\n",
    "tf = t[n]\n",
    "\n",
    "x = Solve_trajectory(Trajectory, t, xi, Radius, n+1)\n",
    "\n",
    "#Intervals\n",
    "tau1 = t/(2*np.pi)\n",
    "tau2 = (-t+2*tf)/(2*np.pi)\n",
    "tau3 = (t+2*tf)/(2*np.pi)\n",
    "tau4 = (-t+4*tf)/(2*np.pi)\n",
    "\n",
    "# Plots\n",
    "Plot_Massive_trajectory(tau1, x,'r','R=0.04')\n",
    "Plot_Massive_trajectory(tau2, x,'r','')\n",
    "Plot_Massive_trajectory(tau3, -x,'r','')\n",
    "Plot_Massive_trajectory(tau4, -x,'r','')\n",
    "\n",
    "\n",
    "#########################   R = 0.4  #################################\n",
    "Radius = R[1] \n",
    "t = t1\n",
    "n = int(N[1])\n",
    "tf = t[n]\n",
    "\n",
    "x = Solve_trajectory(Trajectory, t, xi, Radius, n+1)\n",
    "\n",
    "#Intervals\n",
    "tau1 = t/(2*np.pi)\n",
    "tau2 = (-t+2*tf)/(2*np.pi)\n",
    "tau3 = (t+2*tf)/(2*np.pi)\n",
    "tau4 = (-t+4*tf)/(2*np.pi)\n",
    "\n",
    "# Plots\n",
    "Plot_Massive_trajectory(tau1, x,'y','R=0.16')\n",
    "Plot_Massive_trajectory(tau2, x,'y','')\n",
    "Plot_Massive_trajectory(tau3, -x,'y','')\n",
    "Plot_Massive_trajectory(tau4, -x,'y','')\n",
    "\n",
    "\n",
    "\n",
    "#########################   R = 0.6  #################################\n",
    "Radius = R[2] \n",
    "\n",
    "\n",
    "t = t2\n",
    "n = int(N[2])\n",
    "tf = t[n]\n",
    "\n",
    "x = Solve_trajectory(Trajectory, t, xi, Radius, n+1)\n",
    "\n",
    "#Intervals\n",
    "tau1 = t/(2*np.pi)\n",
    "tau2 = (-t+2*tf)/(2*np.pi)\n",
    "tau3 = (t+2*tf)/(2*np.pi)\n",
    "tau4 = (-t+4*tf)/(2*np.pi)\n",
    "\n",
    "# Plots\n",
    "Plot_Massive_trajectory(tau1, x,'g','R=0.36')\n",
    "Plot_Massive_trajectory(tau2, x,'g','')\n",
    "Plot_Massive_trajectory(tau3, -x,'g','')\n",
    "Plot_Massive_trajectory(tau4, -x,'g','')\n",
    "\n",
    "\n",
    "\n",
    "#########################   R = 2/3  #################################\n",
    "Radius = R[3] \n",
    "\n",
    "t = t3\n",
    "n = int(N[3])\n",
    "tf = t[n]\n",
    "\n",
    "x = Solve_trajectory(Trajectory, t, xi, Radius, n+1)\n",
    "\n",
    "#Intervals\n",
    "tau1 = t/(2*np.pi)\n",
    "tau2 = (-t+2*tf)/(2*np.pi)\n",
    "tau3 = (t+2*tf)/(2*np.pi)\n",
    "tau4 = (-t+4*tf)/(2*np.pi)\n",
    "\n",
    "# Plots\n",
    "Plot_Massive_trajectory(tau1,  x,'b','R=4/9')\n",
    "Plot_Massive_trajectory(tau2,  x,'b','')\n",
    "Plot_Massive_trajectory(tau3, -x,'b','')\n",
    "Plot_Massive_trajectory(tau4, -x,'b','')\n"
   ]
  },
  {
   "cell_type": "markdown",
   "metadata": {},
   "source": [
    "### Numbers\n",
    "\n",
    "To put some numbers to the above formulas and concepts, lets consider a few real cases:\n",
    "\n",
    "| **Body** | $m [kg] $ | $R  [ m] $ | $\\hat{R} $ |\n",
    "| -------- | --------  | ---------- | ---------- |\n",
    "| Earth    | 5.972e24  | 6.371e6    |  6.9e-10    |\n",
    "| Sun      | 1.989e30  | 6.963e9    |  2.1e-7     |\n",
    "| NS       | 1.3 $M_s$ | 10000      |  0.192     |\n",
    "\n",
    "with these we can compute non-dimesional proper and coordinate times. With *Mathematica*, we got\n",
    "\n",
    "\n",
    "| **Body** | $\\hat{\\tau}  $ | $  \\hat{t}  $ | \n",
    "| -------- | --------  | ---------- | \n",
    "| Earth    | 1.5703  | 1.5703    | \n",
    "| Sun      | 1.5707  | 1.5707    | \n",
    "| NS       | 1.3575 | 1.9967     | \n",
    "\n",
    "as $\\hat{t} = \\omega t $, it is easy to compute the dimensionalised times in seconds\n",
    "\n",
    "\n",
    "| **Body** | $\\tau [s]  $ | $  t [s]  $ | \n",
    "| -------- | --------  | ---------- | \n",
    "| Earth    | 1.5703  | 1.5703    | \n",
    "| Sun      | 1.5707  | 1.5707    | \n",
    "| NS       | 1.3575 | 1.9967     | "
   ]
  },
  {
   "cell_type": "code",
   "execution_count": 6,
   "metadata": {},
   "outputs": [
    {
     "name": "stdout",
     "output_type": "stream",
     "text": [
      "Non dimensional radii:\n",
      "6.956614681826879e-10 \t 2.1300377655205044e-07 \t 0.19189510229574225\n"
     ]
    },
    {
     "data": {
      "text/plain": [
       "'\\nprint(\"Dimensional times\")\\ntE = 1.5703/omega(6.371e6, 5.972e24)\\ntS = 1.5707/omega(6.93e9, 1.989e30)\\ntauNS = 1.3575/omega(10000,1.3*1.989e30)\\ntNS = 1.9967/omega(10000,1.3*1.989e30)\\n\\nprint(tE/30, \\'min \\t\\', tS/30, \\' min \\t\\', 2*1000*tauNS , \\' ms \\t\\', 2*1000*tNS, \\' ms\\')'"
      ]
     },
     "execution_count": 6,
     "metadata": {},
     "output_type": "execute_result"
    }
   ],
   "source": [
    "c = 2.99792e8\n",
    "G = 6.67e-11\n",
    "\n",
    "def Rhat(R,M):\n",
    "    Rs = G*M/c**2\n",
    "    return Rs/R\n",
    "\n",
    "RhatE = Rhat(6.371e6, 5.972e24)\n",
    "RhatS = Rhat(6.93e9, 1.989e30)\n",
    "RhatNS = Rhat(10000,1.3*1.989e30)\n",
    "\n",
    "print(\"Non dimensional radii:\")\n",
    "print(RhatE, '\\t', RhatS, '\\t' , RhatNS)\n",
    "\"\"\"\n",
    "print(\"Dimensional times\")\n",
    "tE = 1.5703/omega(6.371e6, 5.972e24)\n",
    "tS = 1.5707/omega(6.93e9, 1.989e30)\n",
    "tauNS = 1.3575/omega(10000,1.3*1.989e30)\n",
    "tNS = 1.9967/omega(10000,1.3*1.989e30)\n",
    "\n",
    "print(tE/30, 'min \\t', tS/30, ' min \\t', 2*1000*tauNS , ' ms \\t', 2*1000*tNS, ' ms')\"\"\"\n"
   ]
  },
  {
   "cell_type": "code",
   "execution_count": null,
   "metadata": {},
   "outputs": [],
   "source": []
  }
 ],
 "metadata": {
  "kernelspec": {
   "display_name": "Python 3.8.5 64-bit ('base': conda)",
   "language": "python",
   "name": "python385jvsc74a57bd0091404e83374c0039d24c227d079ebc2416f757c22e8c57dbed8e262035bdfad"
  },
  "language_info": {
   "codemirror_mode": {
    "name": "ipython",
    "version": 3
   },
   "file_extension": ".py",
   "mimetype": "text/x-python",
   "name": "python",
   "nbconvert_exporter": "python",
   "pygments_lexer": "ipython3",
   "version": "3.8.5"
  },
  "metadata": {
   "interpreter": {
    "hash": "091404e83374c0039d24c227d079ebc2416f757c22e8c57dbed8e262035bdfad"
   }
  }
 },
 "nbformat": 4,
 "nbformat_minor": 2
}
